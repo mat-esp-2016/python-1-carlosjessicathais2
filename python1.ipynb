{
 "cells": [
  {
   "cell_type": "markdown",
   "metadata": {
    "collapsed": true
   },
   "source": [
    "# Importamos o numpy"
   ]
  },
  {
   "cell_type": "code",
   "execution_count": 3,
   "metadata": {
    "collapsed": false
   },
   "outputs": [],
   "source": [
    "import numpy as np"
   ]
  },
  {
   "cell_type": "markdown",
   "metadata": {
    "collapsed": false
   },
   "source": [
    "# Usamos o numpy para abrir os dados do .txt"
   ]
  },
  {
   "cell_type": "code",
   "execution_count": 4,
   "metadata": {
    "collapsed": false
   },
   "outputs": [],
   "source": [
    "dados= np.loadtxt('dados/brazil-TAVG-Trend.txt', comments='%')"
   ]
  },
  {
   "cell_type": "code",
   "execution_count": 19,
   "metadata": {
    "collapsed": false
   },
   "outputs": [
    {
     "name": "stdout",
     "output_type": "stream",
     "text": [
      "[[  1.83200000e+03   1.00000000e+00  -5.75000000e-01 ...,              nan\n",
      "               nan              nan]\n",
      " [  1.83200000e+03   2.00000000e+00  -1.00500000e+00 ...,              nan\n",
      "               nan              nan]\n",
      " [  1.83200000e+03   3.00000000e+00  -7.93000000e-01 ...,              nan\n",
      "               nan              nan]\n",
      " ..., \n",
      " [  2.01300000e+03   7.00000000e+00   7.72000000e-01 ...,              nan\n",
      "               nan              nan]\n",
      " [  2.01300000e+03   8.00000000e+00   1.86000000e-01 ...,              nan\n",
      "               nan              nan]\n",
      " [  2.01300000e+03   9.00000000e+00              nan ...,              nan\n",
      "               nan              nan]]\n"
     ]
    }
   ],
   "source": [
    "print(dados)"
   ]
  },
  {
   "cell_type": "markdown",
   "metadata": {
    "collapsed": false
   },
   "source": [
    "# Faremos a média das anomalias anuais"
   ]
  },
  {
   "cell_type": "code",
   "execution_count": 31,
   "metadata": {
    "collapsed": true
   },
   "outputs": [],
   "source": [
    "ano= dados[:,0]\n",
    "mes= dados[:,1]\n",
    "anomalia_anual=dados[:,4]"
   ]
  },
  {
   "cell_type": "code",
   "execution_count": 32,
   "metadata": {
    "collapsed": false,
    "scrolled": true
   },
   "outputs": [
    {
     "name": "stdout",
     "output_type": "stream",
     "text": [
      "-0.229509107894\n"
     ]
    }
   ],
   "source": [
    "media=np.nanmean(anomalia_anual)\n",
    "print(media)"
   ]
  },
  {
   "cell_type": "markdown",
   "metadata": {},
   "source": [
    "# Faremos o desvio padrão das anomalias anuais"
   ]
  },
  {
   "cell_type": "code",
   "execution_count": 33,
   "metadata": {
    "collapsed": false
   },
   "outputs": [
    {
     "name": "stdout",
     "output_type": "stream",
     "text": [
      "0.496111048439\n"
     ]
    }
   ],
   "source": [
    "desvpad=np.nanstd(anomalia_anual)\n",
    "print(desvpad)"
   ]
  },
  {
   "cell_type": "code",
   "execution_count": 15,
   "metadata": {
    "collapsed": false
   },
   "outputs": [
    {
     "ename": "AttributeError",
     "evalue": "module 'numpy' has no attribute 'read'",
     "output_type": "error",
     "traceback": [
      "\u001b[1;31m\u001b[0m",
      "\u001b[1;31mAttributeError\u001b[0mTraceback (most recent call last)",
      "\u001b[1;32m<ipython-input-15-678744264002>\u001b[0m in \u001b[0;36m<module>\u001b[1;34m()\u001b[0m\n\u001b[1;32m----> 1\u001b[1;33m \u001b[0mnp\u001b[0m\u001b[1;33m.\u001b[0m\u001b[0mread\u001b[0m\u001b[1;33m(\u001b[0m\u001b[0mdados\u001b[0m\u001b[1;33m)\u001b[0m\u001b[1;33m\u001b[0m\u001b[0m\n\u001b[0m",
      "\u001b[1;31mAttributeError\u001b[0m: module 'numpy' has no attribute 'read'"
     ]
    }
   ],
   "source": [
    "np.read(dados)"
   ]
  },
  {
   "cell_type": "code",
   "execution_count": 16,
   "metadata": {
    "collapsed": false
   },
   "outputs": [
    {
     "name": "stdout",
     "output_type": "stream",
     "text": [
      "[[  1.83200000e+03   1.00000000e+00  -5.75000000e-01 ...,              nan\n",
      "               nan              nan]\n",
      " [  1.83200000e+03   2.00000000e+00  -1.00500000e+00 ...,              nan\n",
      "               nan              nan]\n",
      " [  1.83200000e+03   3.00000000e+00  -7.93000000e-01 ...,              nan\n",
      "               nan              nan]\n",
      " ..., \n",
      " [  2.01300000e+03   7.00000000e+00   7.72000000e-01 ...,              nan\n",
      "               nan              nan]\n",
      " [  2.01300000e+03   8.00000000e+00   1.86000000e-01 ...,              nan\n",
      "               nan              nan]\n",
      " [  2.01300000e+03   9.00000000e+00              nan ...,              nan\n",
      "               nan              nan]]\n"
     ]
    }
   ],
   "source": [
    "print(dados)"
   ]
  },
  {
   "cell_type": "code",
   "execution_count": 14,
   "metadata": {
    "collapsed": false
   },
   "outputs": [
    {
     "name": "stdout",
     "output_type": "stream",
     "text": [
      "nan\n"
     ]
    }
   ],
   "source": [
    "media_total=np.mean(dados)\n",
    "print(media_total)"
   ]
  },
  {
   "cell_type": "code",
   "execution_count": null,
   "metadata": {
    "collapsed": true
   },
   "outputs": [],
   "source": []
  }
 ],
 "metadata": {
  "anaconda-cloud": {},
  "kernelspec": {
   "display_name": "Python [Root]",
   "language": "python",
   "name": "Python [Root]"
  },
  "language_info": {
   "codemirror_mode": {
    "name": "ipython",
    "version": 3
   },
   "file_extension": ".py",
   "mimetype": "text/x-python",
   "name": "python",
   "nbconvert_exporter": "python",
   "pygments_lexer": "ipython3",
   "version": "3.5.2"
  }
 },
 "nbformat": 4,
 "nbformat_minor": 0
}
